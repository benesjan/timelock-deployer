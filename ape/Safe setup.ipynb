{
 "cells": [
  {
   "cell_type": "code",
   "execution_count": 1,
   "id": "c0767537",
   "metadata": {},
   "outputs": [],
   "source": [
    "import ape\n",
    "import pickle\n",
    "from ape import chain, networks, Contract, project\n",
    "import pandas as pd\n",
    "import json"
   ]
  },
  {
   "cell_type": "code",
   "execution_count": 2,
   "id": "f2093f4f",
   "metadata": {},
   "outputs": [
    {
     "name": "stdout",
     "output_type": "stream",
     "text": [
      "WARNING: Connecting Geth plugin to non-Geth network 'anvil'.\n"
     ]
    },
    {
     "data": {
      "text/plain": [
       "<geth chain_id=1>"
      ]
     },
     "execution_count": 2,
     "metadata": {},
     "output_type": "execute_result"
    }
   ],
   "source": [
    "networks.parse_network_choice(\"ethereum:mainnet:geth\").__enter__()"
   ]
  },
  {
   "cell_type": "code",
   "execution_count": 3,
   "id": "116b0676",
   "metadata": {},
   "outputs": [],
   "source": [
    "with open(\"./../out/TimelockController.sol/TimelockController.json\", \"rb\") as f:\n",
    "    data = json.load(f)\n",
    "timelockType = ape.contracts.base.ContractType(contractName=\"TimeLockController\", abi=data[\"abi\"])\n",
    "lock_base = networks.compiler_manager.create_contract_container(timelockType)\n",
    "\n",
    "safe_emerg = Contract(\"0x23f8008159C0427458b948c3DD7795c6DBE8236F\")\n",
    "safe_base = networks.compiler_manager.create_contract_container(safe_emerg.contract_type)"
   ]
  },
  {
   "cell_type": "code",
   "execution_count": 4,
   "id": "a4389a29",
   "metadata": {},
   "outputs": [],
   "source": [
    "def toCheckSum(addr):\n",
    "     return safe_base.provider._web3.toChecksumAddress(addr)"
   ]
  },
  {
   "cell_type": "code",
   "execution_count": 5,
   "id": "7f9a70ea",
   "metadata": {},
   "outputs": [],
   "source": [
    "multisigs = {\n",
    "    \"pause\": \"0x23f8008159C0427458b948c3DD7795c6DBE8236F\",\n",
    "    \"maintenance\": \"0x4a691155686b49f474f745ef4ece4790c9570635\",\n",
    "    \"emergency\": \"0x6d68d53c3d9ad8097e420e2363898701841ee9b2\",\n",
    "    \"schedule\": \"0x76ecc1e721f62d23dbf2132facc4b1b318d2e3c4\",\n",
    "    \"resume\": \"0xdb3daf52b3bfba877904666651357b976c47f635\"\n",
    "}\n",
    "\n",
    "timelocks = {\n",
    "    \"timelock\": \"0x7580708993de7ca120e957a62f26a5ddd4b3d8ac\",\n",
    "    \"controller\": \"0x975ab64f4901af5f0c96636dea0b9de3419d0c2f\"\n",
    "}\n",
    "\n",
    "addrNames = {}\n",
    "\n",
    "for tl in timelocks:\n",
    "    addrNames[toCheckSum(timelocks[tl])] = tl\n",
    "\n",
    "for ms in multisigs:\n",
    "    addrNames[toCheckSum(multisigs[ms])] = ms\n"
   ]
  },
  {
   "cell_type": "code",
   "execution_count": 13,
   "id": "bbd65147",
   "metadata": {},
   "outputs": [],
   "source": [
    "def getName(addr):\n",
    "    if addr in addrNames:\n",
    "        return addrNames[addr]\n",
    "    else:\n",
    "        addr"
   ]
  },
  {
   "cell_type": "code",
   "execution_count": 7,
   "id": "d193c0ed",
   "metadata": {},
   "outputs": [],
   "source": [
    "def flatten(logs):\n",
    "    flat = []\n",
    "    for log in logs:\n",
    "        t = log.event_arguments\n",
    "        t[\"block_number\"] = log.block_number\n",
    "        t[\"transaction_hash\"] = log.transaction_hash.hex()\n",
    "        flat.append(t)\n",
    "    return pd.DataFrame(flat)"
   ]
  },
  {
   "cell_type": "code",
   "execution_count": 8,
   "id": "7473032f",
   "metadata": {},
   "outputs": [],
   "source": [
    "locks = {}\n",
    "safes = {}\n",
    "\n",
    "for tl in timelocks:\n",
    "    locks[tl] = lock_base.at(toCheckSum(timelocks[tl]))\n",
    "\n",
    "for ms in multisigs:\n",
    "    safes[ms] = safe_base.at(toCheckSum(multisigs[ms]))"
   ]
  },
  {
   "cell_type": "markdown",
   "id": "1da548bf",
   "metadata": {},
   "source": [
    "# Get Signers of Safes"
   ]
  },
  {
   "cell_type": "code",
   "execution_count": 9,
   "id": "299aab9e",
   "metadata": {},
   "outputs": [
    {
     "name": "stdout",
     "output_type": "stream",
     "text": [
      "pause multisig (2/15):\n",
      "\t0x7345B1F517E8C73F283807CF0f932E801f9586E4\n",
      "\t0x332f0c737232D42f6eDA59CB29dd133bA249F001\n",
      "\t0x107931F48357508198E190c2466Dc2978aaa4aB0\n",
      "\t0x957917c4A958e1D6F00d6FEF54b4C400d57d0208\n",
      "\t0x1e11a0A62b88C0c78361280bd3BBF5cCcC0B0C93\n",
      "\t0xcA8827C1fb9D8303941C2cec5Ae5cF6dBB3ef07a\n",
      "\t0x77b49dc62E2Bbbf6aad42ee0AC5B5eeDd7883bB2\n",
      "\t0xFEE6D8EebC4330c51ef37bc5779c9490F66cFa85\n",
      "\t0x0C0C742154aD3632E75dD011C37EDe0AF677A543\n",
      "\t0x39688E9B290096960604422DA6556BD1C521659B\n",
      "\t0x483Bbf9431681A13b6A65e3D161Bd2fF609Aca48\n",
      "\t0x53495Acd57ED93089149ae7D96b9899b710C1F9e\n",
      "\t0x7fb9f93Cc6614dDd76c893EC8b5310674aC3Fc5f\n",
      "\t0x1D93fE338A035f297819EA867275661a4f5B4fdD\n",
      "\t0xDFca360F22b7f3aA13270A9cDeb09d485294a027\n",
      "maintenance multisig (1/1):\n",
      "\t0xf39Fd6e51aad88F6F4ce6aB8827279cffFb92266\n",
      "emergency multisig (1/1):\n",
      "\t0xf39Fd6e51aad88F6F4ce6aB8827279cffFb92266\n",
      "schedule multisig (1/1):\n",
      "\t0xf39Fd6e51aad88F6F4ce6aB8827279cffFb92266\n",
      "resume multisig (1/1):\n",
      "\t0xf39Fd6e51aad88F6F4ce6aB8827279cffFb92266\n"
     ]
    }
   ],
   "source": [
    "for name in safes:\n",
    "    safe = safes[name]\n",
    "    threshold = safe.getThreshold()\n",
    "    owners = safe.getOwners()\n",
    "    print(\"{0} multisig ({1}/{2}):\".format(name, threshold, len(owners)))\n",
    "    for owner in owners:\n",
    "        print(\"\\t{0}\".format(owner))"
   ]
  },
  {
   "cell_type": "markdown",
   "id": "a46c90db",
   "metadata": {},
   "source": [
    "# Locks"
   ]
  },
  {
   "cell_type": "code",
   "execution_count": 10,
   "id": "0740128a",
   "metadata": {},
   "outputs": [],
   "source": [
    "a = locks[\"controller\"]\n",
    "roleHashes = [a.TIMELOCK_ADMIN_ROLE(), a.CANCELLER_ROLE(), a.DEFAULT_ADMIN_ROLE(), a.EXECUTOR_ROLE(), a.PROPOSER_ROLE() ]"
   ]
  },
  {
   "cell_type": "code",
   "execution_count": 11,
   "id": "f3e99ff9",
   "metadata": {},
   "outputs": [],
   "source": [
    "roleToName = {}\n",
    "roleToName[locks[\"controller\"].CANCELLER_ROLE()] = \"CANCELLER_ROLE\"\n",
    "roleToName[locks[\"controller\"].TIMELOCK_ADMIN_ROLE()] = \"TIMELOCK_ADMIN_ROLE\"\n",
    "roleToName[locks[\"controller\"].DEFAULT_ADMIN_ROLE()] = \"DEFAULT_ADMIN_ROLE\"\n",
    "roleToName[locks[\"controller\"].EXECUTOR_ROLE()] = \"EXECUTOR_ROLE\"\n",
    "roleToName[locks[\"controller\"].PROPOSER_ROLE()] = \"PROPOSER_ROLE\""
   ]
  },
  {
   "cell_type": "code",
   "execution_count": 14,
   "id": "23de2d96",
   "metadata": {},
   "outputs": [
    {
     "name": "stdout",
     "output_type": "stream",
     "text": [
      "Roles on timelock (0x7580708993de7CA120E957A62f26A5dDD4b3D8aC)\n",
      "  timelock has TIMELOCK_ADMIN_ROLE\n",
      "  schedule has CANCELLER_ROLE, EXECUTOR_ROLE, PROPOSER_ROLE\n",
      "  emergency has TIMELOCK_ADMIN_ROLE, CANCELLER_ROLE, EXECUTOR_ROLE, PROPOSER_ROLE\n",
      "  maintenance has EXECUTOR_ROLE\n",
      "\n",
      "Roles on controller (0x975Ab64F4901Af5f0C96636deA0b9de3419D0c2F)\n",
      "  controller has TIMELOCK_ADMIN_ROLE\n",
      "  timelock has TIMELOCK_ADMIN_ROLE, CANCELLER_ROLE, EXECUTOR_ROLE, PROPOSER_ROLE\n",
      "  emergency has TIMELOCK_ADMIN_ROLE, CANCELLER_ROLE, EXECUTOR_ROLE, PROPOSER_ROLE\n",
      "  maintenance has EXECUTOR_ROLE\n",
      "\n"
     ]
    }
   ],
   "source": [
    "for tl in timelocks:\n",
    "    timelock = locks[tl]\n",
    "    print(\"Roles on {0} ({1})\".format(tl, timelock.address))\n",
    "\n",
    "    grantRoleEvents = flatten(\n",
    "        timelock.RoleGranted.range(\n",
    "            start_or_stop=15396000,\n",
    "            stop = chain.blocks.height,\n",
    "            block_page_size = 10000\n",
    "        )\n",
    "    )\n",
    "    grantRoleEvents[\"role\"] = [roleToName[ape.utils.misc.HexBytes(a)] for a in grantRoleEvents[\"role\"]] \n",
    "\n",
    "    for candidate in grantRoleEvents[\"account\"].unique():\n",
    "        gotRoles = []\n",
    "        for rh in roleHashes:\n",
    "            if timelock.hasRole(rh, candidate):\n",
    "                gotRoles.append(roleToName[rh])\n",
    "\n",
    "        if len(gotRoles) > 0:\n",
    "            print(\"  {0} has {1}\".format(getName(candidate), \", \".join(gotRoles)))\n",
    "    print(\"\")"
   ]
  },
  {
   "cell_type": "code",
   "execution_count": null,
   "id": "52ab9707",
   "metadata": {},
   "outputs": [],
   "source": []
  }
 ],
 "metadata": {
  "kernelspec": {
   "display_name": "Python 3 (ipykernel)",
   "language": "python",
   "name": "python3"
  },
  "language_info": {
   "codemirror_mode": {
    "name": "ipython",
    "version": 3
   },
   "file_extension": ".py",
   "mimetype": "text/x-python",
   "name": "python",
   "nbconvert_exporter": "python",
   "pygments_lexer": "ipython3",
   "version": "3.10.0"
  }
 },
 "nbformat": 4,
 "nbformat_minor": 5
}
